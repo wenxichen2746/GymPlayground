{
 "cells": [
  {
   "cell_type": "code",
   "execution_count": 1,
   "metadata": {},
   "outputs": [
    {
     "data": {
      "image/png": "[encoded data removed]",
      "text/plain": [
       "<Figure size 640x480 with 1 Axes>"
      ]
     },
     "metadata": {},
     "output_type": "display_data"
    },
    {
     "data": {
      "image/png": "[encoded data removed]",
      "text/plain": [
       "<Figure size 640x480 with 1 Axes>"
      ]
     },
     "metadata": {},
     "output_type": "display_data"
    },
    {
     "name": "stdout",
     "output_type": "stream",
     "text": [
      "0\n",
      "(6, 6)\n"
     ]
    },
    {
     "data": {
      "image/png": "[encoded data removed]",
      "text/plain": [
       "<Figure size 640x480 with 1 Axes>"
      ]
     },
     "metadata": {},
     "output_type": "display_data"
    },
    {
     "name": "stdout",
     "output_type": "stream",
     "text": [
      "wrapped env obs [[[0 0 0 0 0 0 0]\n",
      "  [1 1 1 1 1 1 0]\n",
      "  [1 1 1 1 1 1 0]\n",
      "  [1 1 1 1 1 1 0]\n",
      "  [1 1 1 1 1 1 0]\n",
      "  [1 1 1 1 1 1 0]\n",
      "  [1 1 1 1 1 1 0]]\n",
      "\n",
      " [[1 0 0 0 0 0 0]\n",
      "  [0 0 0 0 0 0 0]\n",
      "  [0 0 0 0 0 0 0]\n",
      "  [0 0 0 0 0 0 0]\n",
      "  [0 0 0 0 0 0 0]\n",
      "  [0 0 0 0 0 0 0]\n",
      "  [0 0 0 0 0 0 0]]\n",
      "\n",
      " [[0 0 0 0 0 0 0]\n",
      "  [0 0 0 0 0 0 0]\n",
      "  [0 0 0 0 0 0 0]\n",
      "  [0 0 0 0 0 0 0]\n",
      "  [0 0 0 0 0 0 0]\n",
      "  [0 0 0 0 0 0 0]\n",
      "  [0 0 0 0 0 0 1]]]\n"
     ]
    }
   ],
   "source": [
    "import gymnasium as gym\n",
    "import gym_simplegrid\n",
    "\n",
    "\n",
    "import gymnasium as gym\n",
    "import numpy as np\n",
    "\n",
    "class SymbolicGridObsWrapper(gym.ObservationWrapper):\n",
    "    def __init__(self, env, obstacle_map):\n",
    "        super().__init__(env)\n",
    "        self.obstacle_map = obstacle_map\n",
    "        self.rownum = len(obstacle_map)\n",
    "        self.colnum = len(obstacle_map[0])\n",
    "        # Define the observation space for the symbolic representation\n",
    "        self.observation_space = gym.spaces.Box(\n",
    "            low=0,\n",
    "            high=1,\n",
    "            shape=(3, self.rownum, self.colnum),  # 3 layers: map, agent, goal\n",
    "            dtype=np.uint8\n",
    "        )\n",
    "\n",
    "    def observation(self, obs):\n",
    "        # obs is the integer representing the agent's position in the original observation\n",
    "        symbolic_map = np.zeros((3, self.rownum, self.colnum), dtype=np.uint8)\n",
    "        \n",
    "        # Fill in the obstacle map\n",
    "        for i, row in enumerate(self.obstacle_map):\n",
    "            for j, cell in enumerate(row):\n",
    "                symbolic_map[0, i, j] = int(cell)\n",
    "        \n",
    "        # Decode the agent's position from the observation integer\n",
    "        agent_row, agent_col = divmod(obs, self.colnum)\n",
    "        symbolic_map[1, agent_row, agent_col] = 1  # Mark the agent's position\n",
    "        \n",
    "        # Retrieve and mark the goal's position using get_wrapper_attr\n",
    "        goal_xy = self.env.get_wrapper_attr('goal_xy')\n",
    "        goal_row, goal_col = goal_xy\n",
    "        symbolic_map[2, goal_row, goal_col] = 1  # Mark the goal's position\n",
    "        \n",
    "        return symbolic_map\n",
    "\n",
    "maps=[]\n",
    "\n",
    "obstacle_map = [\n",
    "        \"0000000\",\n",
    "        \"1111110\",\n",
    "        \"1111110\",\n",
    "        \"1111110\",\n",
    "        \"1111110\",\n",
    "        \"1111110\",\n",
    "        \"1111110\",\n",
    "    ]\n",
    "maps.append(obstacle_map)\n",
    "\n",
    "obstacle_map = [\n",
    "        \"0000000\",\n",
    "        \"0110110\",\n",
    "        \"0110110\",\n",
    "        \"0000000\",\n",
    "        \"0110110\",\n",
    "        \"0110110\",\n",
    "        \"0000000\",\n",
    "    ]\n",
    "maps.append(obstacle_map)\n",
    "\n",
    "obstacle_map = [\n",
    "        \"0000000\",\n",
    "        \"0101010\",\n",
    "        \"0000000\",\n",
    "        \"0101010\",\n",
    "        \"0000000\",\n",
    "        \"0101010\",\n",
    "        \"0000000\",\n",
    "    ]\n",
    "maps.append(obstacle_map)\n",
    "\n",
    "\n",
    "obstacle_map = [\n",
    "        \"0000001\",\n",
    "        \"0000001\",\n",
    "        \"0000001\",\n",
    "        \"0000001\",\n",
    "        \"0000001\",\n",
    "        \"0000000\",\n",
    "        \"1111100\",\n",
    "    ]\n",
    "maps.append(obstacle_map)\n",
    "\n",
    "\n",
    "env = gym.make(\n",
    "    'SimpleGrid-v0', \n",
    "    obstacle_map=maps[3], \n",
    "    render_mode='human'\n",
    ")\n",
    "\n",
    "\n",
    "obs, info = env.reset(options={'start_loc':0, 'goal_loc':48})\n",
    "print(obs)\n",
    "done = env.unwrapped.done\n",
    "\n",
    "\n",
    "print(env.get_wrapper_attr('goal_xy'))\n",
    "\n",
    "env=SymbolicGridObsWrapper(env,obstacle_map=maps[0])\n",
    "obs, info = env.reset(options={'start_loc':0, 'goal_loc':48})\n",
    "print('wrapped env obs',obs)\n",
    "\n"
   ]
  },
  {
   "cell_type": "code",
   "execution_count": 2,
   "metadata": {},
   "outputs": [
    {
     "ename": "TypeError",
     "evalue": "The reset() method must accept a `seed` parameter",
     "output_type": "error",
     "traceback": [
      "\u001b[0;31m---------------------------------------------------------------------------\u001b[0m",
      "\u001b[0;31mTypeError\u001b[0m                                 Traceback (most recent call last)",
      "File \u001b[0;32m~/anaconda3/envs/RLenv/lib/python3.10/site-packages/stable_baselines3/common/env_checker.py:408\u001b[0m, in \u001b[0;36mcheck_env\u001b[0;34m(env, warn, skip_render_check)\u001b[0m\n\u001b[1;32m    407\u001b[0m \u001b[38;5;28;01mtry\u001b[39;00m:\n\u001b[0;32m--> 408\u001b[0m     \u001b[43menv\u001b[49m\u001b[38;5;241;43m.\u001b[39;49m\u001b[43mreset\u001b[49m\u001b[43m(\u001b[49m\u001b[43mseed\u001b[49m\u001b[38;5;241;43m=\u001b[39;49m\u001b[38;5;241;43m0\u001b[39;49m\u001b[43m)\u001b[49m\n\u001b[1;32m    409\u001b[0m \u001b[38;5;28;01mexcept\u001b[39;00m \u001b[38;5;167;01mTypeError\u001b[39;00m \u001b[38;5;28;01mas\u001b[39;00m e:\n",
      "File \u001b[0;32m~/anaconda3/envs/RLenv/lib/python3.10/site-packages/gymnasium/core.py:515\u001b[0m, in \u001b[0;36mObservationWrapper.reset\u001b[0;34m(self, seed, options)\u001b[0m\n\u001b[1;32m    514\u001b[0m \u001b[38;5;250m\u001b[39m\u001b[38;5;124;03m\"\"\"Modifies the :attr:`env` after calling :meth:`reset`, returning a modified observation using :meth:`self.observation`.\"\"\"\u001b[39;00m\n\u001b[0;32m--> 515\u001b[0m obs, info \u001b[38;5;241m=\u001b[39m \u001b[38;5;28;43mself\u001b[39;49m\u001b[38;5;241;43m.\u001b[39;49m\u001b[43menv\u001b[49m\u001b[38;5;241;43m.\u001b[39;49m\u001b[43mreset\u001b[49m\u001b[43m(\u001b[49m\u001b[43mseed\u001b[49m\u001b[38;5;241;43m=\u001b[39;49m\u001b[43mseed\u001b[49m\u001b[43m,\u001b[49m\u001b[43m \u001b[49m\u001b[43moptions\u001b[49m\u001b[38;5;241;43m=\u001b[39;49m\u001b[43moptions\u001b[49m\u001b[43m)\u001b[49m\n\u001b[1;32m    516\u001b[0m \u001b[38;5;28;01mreturn\u001b[39;00m \u001b[38;5;28mself\u001b[39m\u001b[38;5;241m.\u001b[39mobservation(obs), info\n",
      "File \u001b[0;32m~/anaconda3/envs/RLenv/lib/python3.10/site-packages/gymnasium/wrappers/time_limit.py:75\u001b[0m, in \u001b[0;36mTimeLimit.reset\u001b[0;34m(self, **kwargs)\u001b[0m\n\u001b[1;32m     74\u001b[0m \u001b[38;5;28mself\u001b[39m\u001b[38;5;241m.\u001b[39m_elapsed_steps \u001b[38;5;241m=\u001b[39m \u001b[38;5;241m0\u001b[39m\n\u001b[0;32m---> 75\u001b[0m \u001b[38;5;28;01mreturn\u001b[39;00m \u001b[38;5;28;43mself\u001b[39;49m\u001b[38;5;241;43m.\u001b[39;49m\u001b[43menv\u001b[49m\u001b[38;5;241;43m.\u001b[39;49m\u001b[43mreset\u001b[49m\u001b[43m(\u001b[49m\u001b[38;5;241;43m*\u001b[39;49m\u001b[38;5;241;43m*\u001b[39;49m\u001b[43mkwargs\u001b[49m\u001b[43m)\u001b[49m\n",
      "File \u001b[0;32m~/anaconda3/envs/RLenv/lib/python3.10/site-packages/gymnasium/wrappers/order_enforcing.py:61\u001b[0m, in \u001b[0;36mOrderEnforcing.reset\u001b[0;34m(self, **kwargs)\u001b[0m\n\u001b[1;32m     60\u001b[0m \u001b[38;5;28mself\u001b[39m\u001b[38;5;241m.\u001b[39m_has_reset \u001b[38;5;241m=\u001b[39m \u001b[38;5;28;01mTrue\u001b[39;00m\n\u001b[0;32m---> 61\u001b[0m \u001b[38;5;28;01mreturn\u001b[39;00m \u001b[38;5;28;43mself\u001b[39;49m\u001b[38;5;241;43m.\u001b[39;49m\u001b[43menv\u001b[49m\u001b[38;5;241;43m.\u001b[39;49m\u001b[43mreset\u001b[49m\u001b[43m(\u001b[49m\u001b[38;5;241;43m*\u001b[39;49m\u001b[38;5;241;43m*\u001b[39;49m\u001b[43mkwargs\u001b[49m\u001b[43m)\u001b[49m\n",
      "File \u001b[0;32m~/anaconda3/envs/RLenv/lib/python3.10/site-packages/gymnasium/wrappers/env_checker.py:59\u001b[0m, in \u001b[0;36mPassiveEnvChecker.reset\u001b[0;34m(self, **kwargs)\u001b[0m\n\u001b[1;32m     58\u001b[0m \u001b[38;5;28;01melse\u001b[39;00m:\n\u001b[0;32m---> 59\u001b[0m     \u001b[38;5;28;01mreturn\u001b[39;00m \u001b[38;5;28;43mself\u001b[39;49m\u001b[38;5;241;43m.\u001b[39;49m\u001b[43menv\u001b[49m\u001b[38;5;241;43m.\u001b[39;49m\u001b[43mreset\u001b[49m\u001b[43m(\u001b[49m\u001b[38;5;241;43m*\u001b[39;49m\u001b[38;5;241;43m*\u001b[39;49m\u001b[43mkwargs\u001b[49m\u001b[43m)\u001b[49m\n",
      "File \u001b[0;32m~/anaconda3/envs/RLenv/lib/python3.10/site-packages/gym_simplegrid/envs/simple_grid.py:103\u001b[0m, in \u001b[0;36mSimpleGridEnv.reset\u001b[0;34m(self, seed, options)\u001b[0m\n\u001b[1;32m    102\u001b[0m \u001b[38;5;66;03m# parse options\u001b[39;00m\n\u001b[0;32m--> 103\u001b[0m \u001b[38;5;28mself\u001b[39m\u001b[38;5;241m.\u001b[39mstart_xy \u001b[38;5;241m=\u001b[39m \u001b[38;5;28;43mself\u001b[39;49m\u001b[38;5;241;43m.\u001b[39;49m\u001b[43mparse_state_option\u001b[49m\u001b[43m(\u001b[49m\u001b[38;5;124;43m'\u001b[39;49m\u001b[38;5;124;43mstart_loc\u001b[39;49m\u001b[38;5;124;43m'\u001b[39;49m\u001b[43m,\u001b[49m\u001b[43m \u001b[49m\u001b[43moptions\u001b[49m\u001b[43m)\u001b[49m\n\u001b[1;32m    104\u001b[0m \u001b[38;5;28mself\u001b[39m\u001b[38;5;241m.\u001b[39mgoal_xy \u001b[38;5;241m=\u001b[39m \u001b[38;5;28mself\u001b[39m\u001b[38;5;241m.\u001b[39mparse_state_option(\u001b[38;5;124m'\u001b[39m\u001b[38;5;124mgoal_loc\u001b[39m\u001b[38;5;124m'\u001b[39m, options)\n",
      "File \u001b[0;32m~/anaconda3/envs/RLenv/lib/python3.10/site-packages/gym_simplegrid/envs/simple_grid.py:180\u001b[0m, in \u001b[0;36mSimpleGridEnv.parse_state_option\u001b[0;34m(self, state_name, options)\u001b[0m\n\u001b[1;32m    179\u001b[0m \u001b[38;5;28;01mtry\u001b[39;00m:\n\u001b[0;32m--> 180\u001b[0m     state \u001b[38;5;241m=\u001b[39m \u001b[43moptions\u001b[49m\u001b[43m[\u001b[49m\u001b[43mstate_name\u001b[49m\u001b[43m]\u001b[49m\n\u001b[1;32m    181\u001b[0m     \u001b[38;5;28;01mif\u001b[39;00m \u001b[38;5;28misinstance\u001b[39m(state, \u001b[38;5;28mint\u001b[39m):\n",
      "\u001b[0;31mTypeError\u001b[0m: 'NoneType' object is not subscriptable",
      "\nThe above exception was the direct cause of the following exception:\n",
      "\u001b[0;31mTypeError\u001b[0m                                 Traceback (most recent call last)",
      "Cell \u001b[0;32mIn[2], line 4\u001b[0m\n\u001b[1;32m      1\u001b[0m \u001b[38;5;28;01mfrom\u001b[39;00m \u001b[38;5;21;01mstable_baselines3\u001b[39;00m\u001b[38;5;21;01m.\u001b[39;00m\u001b[38;5;21;01mcommon\u001b[39;00m\u001b[38;5;21;01m.\u001b[39;00m\u001b[38;5;21;01menv_checker\u001b[39;00m \u001b[38;5;28;01mimport\u001b[39;00m check_env\n\u001b[1;32m      3\u001b[0m \u001b[38;5;66;03m# It will check your custom environment and output additional warnings if needed\u001b[39;00m\n\u001b[0;32m----> 4\u001b[0m \u001b[43mcheck_env\u001b[49m\u001b[43m(\u001b[49m\u001b[43menv\u001b[49m\u001b[43m)\u001b[49m\n",
      "File \u001b[0;32m~/anaconda3/envs/RLenv/lib/python3.10/site-packages/stable_baselines3/common/env_checker.py:410\u001b[0m, in \u001b[0;36mcheck_env\u001b[0;34m(env, warn, skip_render_check)\u001b[0m\n\u001b[1;32m    408\u001b[0m     env\u001b[38;5;241m.\u001b[39mreset(seed\u001b[38;5;241m=\u001b[39m\u001b[38;5;241m0\u001b[39m)\n\u001b[1;32m    409\u001b[0m \u001b[38;5;28;01mexcept\u001b[39;00m \u001b[38;5;167;01mTypeError\u001b[39;00m \u001b[38;5;28;01mas\u001b[39;00m e:\n\u001b[0;32m--> 410\u001b[0m     \u001b[38;5;28;01mraise\u001b[39;00m \u001b[38;5;167;01mTypeError\u001b[39;00m(\u001b[38;5;124m\"\u001b[39m\u001b[38;5;124mThe reset() method must accept a `seed` parameter\u001b[39m\u001b[38;5;124m\"\u001b[39m) \u001b[38;5;28;01mfrom\u001b[39;00m \u001b[38;5;21;01me\u001b[39;00m\n\u001b[1;32m    412\u001b[0m \u001b[38;5;66;03m# Warn the user if needed.\u001b[39;00m\n\u001b[1;32m    413\u001b[0m \u001b[38;5;66;03m# A warning means that the environment may run but not work properly with Stable Baselines algorithms\u001b[39;00m\n\u001b[1;32m    414\u001b[0m \u001b[38;5;28;01mif\u001b[39;00m warn:\n",
      "\u001b[0;31mTypeError\u001b[0m: The reset() method must accept a `seed` parameter"
     ]
    }
   ],
   "source": [
    "from stable_baselines3.common.env_checker import check_env\n",
    "\n",
    "# It will check your custom environment and output additional warnings if needed\n",
    "check_env(env)"
   ]
  },
  {
   "cell_type": "code",
   "execution_count": null,
   "metadata": {},
   "outputs": [],
   "source": [
    "\n",
    "from stable_baselines3 import PPO\n",
    "\n",
    "model = PPO(\"CnnPolicy\", env, verbose=1,normalize_images=False)\n",
    "# Train the model\n",
    "model.learn(total_timesteps=10000)\n",
    "\n",
    "# Save the model\n",
    "model.save(\"GymPlayground/trained_model\")"
   ]
  }
 ],
 "metadata": {
  "kernelspec": {
   "display_name": "RLenv",
   "language": "python",
   "name": "python3"
  },
  "language_info": {
   "codemirror_mode": {
    "name": "ipython",
    "version": 3
   },
   "file_extension": ".py",
   "mimetype": "text/x-python",
   "name": "python",
   "nbconvert_exporter": "python",
   "pygments_lexer": "ipython3",
   "version": "3.10.13"
  }
 },
 "nbformat": 4,
 "nbformat_minor": 2
}
